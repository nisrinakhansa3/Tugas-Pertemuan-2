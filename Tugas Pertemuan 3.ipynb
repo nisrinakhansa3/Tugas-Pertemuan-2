{
  "nbformat": 4,
  "nbformat_minor": 0,
  "metadata": {
    "colab": {
      "provenance": [],
      "authorship_tag": "ABX9TyNkYw3tuXOXJwP2h9lINuXs",
      "include_colab_link": true
    },
    "kernelspec": {
      "name": "python3",
      "display_name": "Python 3"
    },
    "language_info": {
      "name": "python"
    }
  },
  "cells": [
    {
      "cell_type": "markdown",
      "metadata": {
        "id": "view-in-github",
        "colab_type": "text"
      },
      "source": [
        "<a href=\"https://colab.research.google.com/github/nisrinakhansa3/Tugas-Pertemuan-2/blob/main/Tugas%20Pertemuan%203.ipynb\" target=\"_parent\"><img src=\"https://colab.research.google.com/assets/colab-badge.svg\" alt=\"Open In Colab\"/></a>"
      ]
    },
    {
      "cell_type": "code",
      "execution_count": 1,
      "metadata": {
        "colab": {
          "base_uri": "https://localhost:8080/"
        },
        "id": "qrbGT_sekNsQ",
        "outputId": "5cc65257-e430-4b3c-b267-689816196c19"
      },
      "outputs": [
        {
          "output_type": "stream",
          "name": "stdout",
          "text": [
            "Requirement already satisfied: pandas in /usr/local/lib/python3.10/dist-packages (1.5.3)\n",
            "Requirement already satisfied: python-dateutil>=2.8.1 in /usr/local/lib/python3.10/dist-packages (from pandas) (2.8.2)\n",
            "Requirement already satisfied: pytz>=2020.1 in /usr/local/lib/python3.10/dist-packages (from pandas) (2023.4)\n",
            "Requirement already satisfied: numpy>=1.21.0 in /usr/local/lib/python3.10/dist-packages (from pandas) (1.25.2)\n",
            "Requirement already satisfied: six>=1.5 in /usr/local/lib/python3.10/dist-packages (from python-dateutil>=2.8.1->pandas) (1.16.0)\n"
          ]
        }
      ],
      "source": [
        "pip install pandas"
      ]
    },
    {
      "cell_type": "code",
      "source": [
        "import pandas as pd\n",
        "tabel_siswa = {\n",
        "    'Nama': ['Arfian Purnama', 'Alisa Dityaningrum', 'Kiki Anggraeni', 'Rizky Kurniawan'],\n",
        "    'Gender': ['Laki-laki', 'Perempuan', 'Perempuan', 'Laki-laki'],\n",
        "    'No Telepon': ['081267001022', '087823560918', '089654009102', '082267018967']\n",
        "}\n",
        "df = pd.DataFrame(tabel_siswa)\n",
        "print(df)"
      ],
      "metadata": {
        "colab": {
          "base_uri": "https://localhost:8080/"
        },
        "id": "IZjT2tRVkWpO",
        "outputId": "b45f486b-d9ab-4330-86e7-611649457e99"
      },
      "execution_count": 2,
      "outputs": [
        {
          "output_type": "stream",
          "name": "stdout",
          "text": [
            "                 Nama     Gender    No Telepon\n",
            "0      Arfian Purnama  Laki-laki  081267001022\n",
            "1  Alisa Dityaningrum  Perempuan  087823560918\n",
            "2      Kiki Anggraeni  Perempuan  089654009102\n",
            "3     Rizky Kurniawan  Laki-laki  082267018967\n"
          ]
        }
      ]
    },
    {
      "cell_type": "code",
      "source": [
        "import pandas as pd\n",
        "tabel_siswa = {\n",
        "    'Nama': ['Arfian Purnama', 'Alisa Dityaningrum', 'Kiki Anggraeni', 'Rizky Kurniawan'],\n",
        "    'Gender': ['Laki-laki', 'Perempuan', 'Perempuan','Laki-laki'],\n",
        "    'No Telepon': ['081267001022', '087823560918', '089654009102', '082267018967'],\n",
        "    'Tugas': ['80', '89', '76', '80'],\n",
        "    'UTS': ['88', '78', '90', '81'],\n",
        "    'UAS': ['90', '89', '85', '82']\n",
        "}\n",
        "df = pd.DataFrame(tabel_siswa)\n",
        "print(df)"
      ],
      "metadata": {
        "colab": {
          "base_uri": "https://localhost:8080/"
        },
        "id": "x8bs79lulhQP",
        "outputId": "91e3c5a3-e092-4847-867c-4874b65e826d"
      },
      "execution_count": 3,
      "outputs": [
        {
          "output_type": "stream",
          "name": "stdout",
          "text": [
            "                 Nama     Gender    No Telepon Tugas UTS UAS\n",
            "0      Arfian Purnama  Laki-laki  081267001022    80  88  90\n",
            "1  Alisa Dityaningrum  Perempuan  087823560918    89  78  89\n",
            "2      Kiki Anggraeni  Perempuan  089654009102    76  90  85\n",
            "3     Rizky Kurniawan  Laki-laki  082267018967    80  81  82\n"
          ]
        }
      ]
    },
    {
      "cell_type": "code",
      "source": [
        "import pandas as pd\n",
        "tabel_siswa = {\n",
        "    'Nama': ['Arfian Purnama', 'Alisa Dityaningrum', 'Kiki Anggraeni', 'Rizky Kurniawan'],\n",
        "    'Gender': ['Laki-laki', 'Perempuan', 'Perempuan','Laki-laki'],\n",
        "    'No Telepon': ['081267001022', '087823560918', '089654009102', '082267018967'],\n",
        "    'Tugas': [80, 89, 76, 80],\n",
        "    'UTS': [88, 78, 90, 81],\n",
        "    'UAS': [90, 89, 85, 82]\n",
        "}\n",
        "df = pd.DataFrame(tabel_siswa)\n",
        "\n",
        "df['Nilai Akhir'] = (0.3 * df['Tugas'] + 0.3 * df['UTS'] + 0.4 * df['UAS']).round(2)\n",
        "print(df)"
      ],
      "metadata": {
        "colab": {
          "base_uri": "https://localhost:8080/"
        },
        "outputId": "cfcb363e-5d35-415b-a32c-0058e7064ff7",
        "id": "vLVENCMAm0eR"
      },
      "execution_count": 6,
      "outputs": [
        {
          "output_type": "stream",
          "name": "stdout",
          "text": [
            "                 Nama     Gender    No Telepon  Tugas  UTS  UAS  Nilai Akhir\n",
            "0      Arfian Purnama  Laki-laki  081267001022     80   88   90         86.4\n",
            "1  Alisa Dityaningrum  Perempuan  087823560918     89   78   89         85.7\n",
            "2      Kiki Anggraeni  Perempuan  089654009102     76   90   85         83.8\n",
            "3     Rizky Kurniawan  Laki-laki  082267018967     80   81   82         81.1\n"
          ]
        }
      ]
    },
    {
      "cell_type": "code",
      "source": [],
      "metadata": {
        "id": "mbREhEq9nkJD"
      },
      "execution_count": null,
      "outputs": []
    }
  ]
}
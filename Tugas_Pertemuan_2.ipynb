{
  "nbformat": 4,
  "nbformat_minor": 0,
  "metadata": {
    "colab": {
      "provenance": []
    },
    "kernelspec": {
      "name": "python3",
      "display_name": "Python 3"
    },
    "language_info": {
      "name": "python"
    }
  },
  "cells": [
    {
      "cell_type": "code",
      "execution_count": null,
      "metadata": {
        "colab": {
          "base_uri": "https://localhost:8080/"
        },
        "id": "P_ZOR2QrXtKh",
        "outputId": "8da37979-d94c-4192-a2cc-6ccccd663323"
      },
      "outputs": [
        {
          "output_type": "stream",
          "name": "stdout",
          "text": [
            "Requirement already satisfied: numpy in /usr/local/lib/python3.10/dist-packages (1.25.2)\n"
          ]
        }
      ],
      "source": [
        "pip install numpy"
      ]
    },
    {
      "cell_type": "code",
      "source": [
        "import numpy as np"
      ],
      "metadata": {
        "id": "slEvfxUZYAHq"
      },
      "execution_count": null,
      "outputs": []
    },
    {
      "cell_type": "code",
      "source": [
        "# Membuat matriks 5x5 dengan angka 11 hingga 35\n",
        "angka = np.arange(11,36)\n",
        "matriks = angka.reshape(5,5)"
      ],
      "metadata": {
        "id": "6PyH3q92YDQ0"
      },
      "execution_count": null,
      "outputs": []
    },
    {
      "cell_type": "code",
      "source": [
        "# Fungsi untuk memberi warna pada angka-angka tertentu\n",
        "def warna_angka(angka) :\n",
        "  if angka in [11, 13, 15, 21, 23, 25, 31, 33, 35] :\n",
        "    return \"\\033[32m{}\\033[0m\". format(angka) # Hijau\n",
        "  elif angka in [12, 14] :\n",
        "    return \"\\033[31m{}\\033[0m\". format(angka) # Merah\n",
        "  elif angka in [16, 26] :\n",
        "    return \"\\033[34m{}\\033[0m\". format(angka) # Biru\n",
        "  elif angka in [12, 17, 22, 27, 32] :\n",
        "    return \"\\033[91m{}\\033[0m\". format(angka) # Merah Muda\n",
        "  else :\n",
        "    return str(angka)"
      ],
      "metadata": {
        "id": "CcNDLyv-YSHX"
      },
      "execution_count": null,
      "outputs": []
    },
    {
      "cell_type": "code",
      "source": [
        "# Mengubah setiap elemen matriks dengan fungsi warna_angka\n",
        "matriks_warna = np.vectorize(warna_angka)(matriks)"
      ],
      "metadata": {
        "id": "rCyfiqLRaSBE"
      },
      "execution_count": null,
      "outputs": []
    },
    {
      "cell_type": "code",
      "source": [
        "# Menampilkan matriks dengan warna pada angka-angka tertentu\n",
        "for baris in matriks_warna :\n",
        "  print(\"\".join(baris))"
      ],
      "metadata": {
        "colab": {
          "base_uri": "https://localhost:8080/"
        },
        "id": "2lQ0l7-Pai3d",
        "outputId": "7a4accb7-d4f3-4fbd-84c4-68af307e93eb"
      },
      "execution_count": null,
      "outputs": [
        {
          "output_type": "stream",
          "name": "stdout",
          "text": [
            "\u001b[32m11\u001b[0m\u001b[31m12\u001b[0m\u001b[32m13\u001b[0m\u001b[31m14\u001b[0m\u001b[32m15\u001b[0m\n",
            "\u001b[34m16\u001b[0m\u001b[91m17\u001b[0m181920\n",
            "\u001b[32m21\u001b[0m\u001b[91m22\u001b[0m\u001b[32m23\u001b[0m24\u001b[32m25\u001b[0m\n",
            "\u001b[34m26\u001b[0m\u001b[91m27\u001b[0m282930\n",
            "\u001b[32m31\u001b[0m\u001b[91m32\u001b[0m\u001b[32m33\u001b[0m34\u001b[32m35\u001b[0m\n"
          ]
        }
      ]
    }
  ]
}
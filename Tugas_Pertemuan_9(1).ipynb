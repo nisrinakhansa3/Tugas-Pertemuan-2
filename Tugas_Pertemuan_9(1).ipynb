{
  "nbformat": 4,
  "nbformat_minor": 0,
  "metadata": {
    "colab": {
      "provenance": [],
      "authorship_tag": "ABX9TyNmAe6FfWJZtpggWI5oQUSF",
      "include_colab_link": true
    },
    "kernelspec": {
      "name": "python3",
      "display_name": "Python 3"
    },
    "language_info": {
      "name": "python"
    }
  },
  "cells": [
    {
      "cell_type": "markdown",
      "metadata": {
        "id": "view-in-github",
        "colab_type": "text"
      },
      "source": [
        "<a href=\"https://colab.research.google.com/github/nisrinakhansa3/Tugas-Pertemuan-2/blob/main/Tugas_Pertemuan_9(1).ipynb\" target=\"_parent\"><img src=\"https://colab.research.google.com/assets/colab-badge.svg\" alt=\"Open In Colab\"/></a>"
      ]
    },
    {
      "cell_type": "code",
      "execution_count": null,
      "metadata": {
        "colab": {
          "base_uri": "https://localhost:8080/"
        },
        "id": "XNT-Ht0dMRCM",
        "outputId": "e184f77a-9be9-412e-8160-f5cae9f0a6d7"
      },
      "outputs": [
        {
          "output_type": "stream",
          "name": "stdout",
          "text": [
            "Requirement already satisfied: kaggle in /usr/local/lib/python3.10/dist-packages (1.6.14)\n",
            "Requirement already satisfied: six>=1.10 in /usr/local/lib/python3.10/dist-packages (from kaggle) (1.16.0)\n",
            "Requirement already satisfied: certifi>=2023.7.22 in /usr/local/lib/python3.10/dist-packages (from kaggle) (2024.2.2)\n",
            "Requirement already satisfied: python-dateutil in /usr/local/lib/python3.10/dist-packages (from kaggle) (2.8.2)\n",
            "Requirement already satisfied: requests in /usr/local/lib/python3.10/dist-packages (from kaggle) (2.31.0)\n",
            "Requirement already satisfied: tqdm in /usr/local/lib/python3.10/dist-packages (from kaggle) (4.66.4)\n",
            "Requirement already satisfied: python-slugify in /usr/local/lib/python3.10/dist-packages (from kaggle) (8.0.4)\n",
            "Requirement already satisfied: urllib3 in /usr/local/lib/python3.10/dist-packages (from kaggle) (2.0.7)\n",
            "Requirement already satisfied: bleach in /usr/local/lib/python3.10/dist-packages (from kaggle) (6.1.0)\n",
            "Requirement already satisfied: webencodings in /usr/local/lib/python3.10/dist-packages (from bleach->kaggle) (0.5.1)\n",
            "Requirement already satisfied: text-unidecode>=1.3 in /usr/local/lib/python3.10/dist-packages (from python-slugify->kaggle) (1.3)\n",
            "Requirement already satisfied: charset-normalizer<4,>=2 in /usr/local/lib/python3.10/dist-packages (from requests->kaggle) (3.3.2)\n",
            "Requirement already satisfied: idna<4,>=2.5 in /usr/local/lib/python3.10/dist-packages (from requests->kaggle) (3.7)\n"
          ]
        }
      ],
      "source": [
        "!pip install kaggle"
      ]
    },
    {
      "cell_type": "code",
      "source": [
        "import os\n",
        "os.environ['KAGGLE_USERNAME'] = 'nisrinakhansa'\n",
        "os.environ['KAGGLE_KEY'] = ' ~/.kaggle/kaggle.json'\n",
        "import kaggle"
      ],
      "metadata": {
        "id": "LX5SPYTGMwGz"
      },
      "execution_count": null,
      "outputs": []
    },
    {
      "cell_type": "code",
      "source": [
        "!kaggle datasets download -d shreyanshverma27/online-sales-dataset-popular-marketplace-data"
      ],
      "metadata": {
        "colab": {
          "base_uri": "https://localhost:8080/"
        },
        "id": "NW3amUJTNQwK",
        "outputId": "82f08b8c-66a4-4527-bc32-683da25e81e8"
      },
      "execution_count": null,
      "outputs": [
        {
          "output_type": "stream",
          "name": "stdout",
          "text": [
            "Dataset URL: https://www.kaggle.com/datasets/shreyanshverma27/online-sales-dataset-popular-marketplace-data\n",
            "License(s): CC0-1.0\n",
            "Downloading online-sales-dataset-popular-marketplace-data.zip to /content\n",
            "  0% 0.00/6.78k [00:00<?, ?B/s]\n",
            "100% 6.78k/6.78k [00:00<00:00, 12.7MB/s]\n"
          ]
        }
      ]
    },
    {
      "cell_type": "code",
      "source": [
        "from zipfile import ZipFile\n",
        "file_name = 'online-sales-dataset-popular-marketplace-data.zip'\n",
        "with ZipFile(file_name, 'r') as zip:\n",
        "  zip.extractall()\n",
        "  print('Done')\n"
      ],
      "metadata": {
        "colab": {
          "base_uri": "https://localhost:8080/"
        },
        "id": "SVxWqwkgN4Fd",
        "outputId": "08bee439-4833-4dc5-d57a-a8c849d4bfb1"
      },
      "execution_count": null,
      "outputs": [
        {
          "output_type": "stream",
          "name": "stdout",
          "text": [
            "Done\n"
          ]
        }
      ]
    },
    {
      "cell_type": "code",
      "source": [
        "import pandas as pd\n",
        "\n",
        "# Buka file CSV yang di-ekstrak\n",
        "df = pd.read_csv('online-sales-dataset-popular-marketplace-data.zip')\n",
        "\n",
        "# Lihat isi file\n",
        "print(df.head(5))"
      ],
      "metadata": {
        "colab": {
          "base_uri": "https://localhost:8080/"
        },
        "id": "PmW1OC0nOLvU",
        "outputId": "4cc6570a-59f7-41e0-a48a-12e5740ec40d"
      },
      "execution_count": null,
      "outputs": [
        {
          "output_type": "stream",
          "name": "stdout",
          "text": [
            "   Transaction ID        Date Product Category             Product Name  \\\n",
            "0           10001  2024-01-01      Electronics            iPhone 14 Pro   \n",
            "1           10002  2024-01-02  Home Appliances         Dyson V11 Vacuum   \n",
            "2           10003  2024-01-03         Clothing         Levi's 501 Jeans   \n",
            "3           10004  2024-01-04            Books        The Da Vinci Code   \n",
            "4           10005  2024-01-05  Beauty Products  Neutrogena Skincare Set   \n",
            "\n",
            "   Units Sold  Unit Price  Total Revenue         Region Payment Method  \n",
            "0           2      999.99        1999.98  North America    Credit Card  \n",
            "1           1      499.99         499.99         Europe         PayPal  \n",
            "2           3       69.99         209.97           Asia     Debit Card  \n",
            "3           4       15.99          63.96  North America    Credit Card  \n",
            "4           1       89.99          89.99         Europe         PayPal  \n"
          ]
        }
      ]
    }
  ]
}